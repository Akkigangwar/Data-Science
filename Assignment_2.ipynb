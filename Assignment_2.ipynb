{
 "cells": [
  {
   "cell_type": "code",
   "execution_count": 1,
   "id": "7526a8de-e700-427c-87ce-86903e33a6ca",
   "metadata": {},
   "outputs": [
    {
     "data": {
      "text/plain": [
       "' Python program to \\n multiline comments'"
      ]
     },
     "execution_count": 1,
     "metadata": {},
     "output_type": "execute_result"
    }
   ],
   "source": [
    "#Answer-1\n",
    "\n",
    "#Line Comments \n",
    "\n",
    "     #This is the comment line.\n",
    "\n",
    "#Block Comments\n",
    "\n",
    "\"\"\" Python program to \n",
    " multiline comments\"\"\""
   ]
  },
  {
   "cell_type": "code",
   "execution_count": 3,
   "id": "b7287aef-78a3-493a-80ce-0528c6d1318f",
   "metadata": {},
   "outputs": [],
   "source": [
    "#Answer - 2\n",
    "\n",
    "#variable is nothing just values stored procedure in particular address.\n",
    "\n",
    "A = \"PW SKILLS\" # String\n",
    "B = 1223455 # integer\n",
    "C = 43.32 # float\n",
    "\n"
   ]
  },
  {
   "cell_type": "code",
   "execution_count": 17,
   "id": "14aaa724-86bf-4f23-8de2-a78a2143c712",
   "metadata": {},
   "outputs": [
    {
     "data": {
      "text/plain": [
       "8.0"
      ]
     },
     "execution_count": 17,
     "metadata": {},
     "output_type": "execute_result"
    }
   ],
   "source": [
    "# Answer - 3\n",
    "\n",
    "float(8)\n"
   ]
  },
  {
   "cell_type": "code",
   "execution_count": null,
   "id": "7a728b0d-d779-4054-a520-35a82b71a92c",
   "metadata": {},
   "outputs": [],
   "source": [
    "# Answer - 4\n",
    "\n",
    "C:\\Users\\akkig>python\n",
    "Python 3.11.4 (tags/v3.11.4:d2340ef, Jun  7 2023, 05:45:37) [MSC v.1934 64 bit (AMD64)] on win32\n",
    "Type \"help\", \"copyright\", \"credits\" or \"license\" for more information.\n",
    ">>> print(\"hello\")\n",
    "hello\n"
   ]
  },
  {
   "cell_type": "code",
   "execution_count": 4,
   "id": "8b863cd4-227e-4373-96c6-96af1bc6b1cb",
   "metadata": {},
   "outputs": [
    {
     "data": {
      "text/plain": [
       "[2, 3]"
      ]
     },
     "execution_count": 4,
     "metadata": {},
     "output_type": "execute_result"
    }
   ],
   "source": [
    " # Answer - 5\n",
    "    \n",
    "my_list = [1, 2, 3, 4, 5]\n",
    "my_list[1:3]"
   ]
  },
  {
   "cell_type": "code",
   "execution_count": 5,
   "id": "3c16704f-90cb-48ef-8b47-297f1ef4b012",
   "metadata": {},
   "outputs": [],
   "source": [
    " # Answer - 6\n",
    "    \n",
    "# (x + yj) where x and y are real numbers and j is an imaginary number\n",
    "A = 4 + 5j"
   ]
  },
  {
   "cell_type": "code",
   "execution_count": 18,
   "id": "3a2b983e-45e3-4cee-9f0f-eea456067ab8",
   "metadata": {},
   "outputs": [],
   "source": [
    "# Answer - 7\n",
    " \n",
    "age = int(25)    \n"
   ]
  },
  {
   "cell_type": "code",
   "execution_count": 8,
   "id": "d735108a-ff70-4fac-be4a-609a1702ecb1",
   "metadata": {},
   "outputs": [
    {
     "name": "stdout",
     "output_type": "stream",
     "text": [
      "<class 'float'>\n"
     ]
    }
   ],
   "source": [
    "# Answer - 8\n",
    "\n",
    "price = 9.99\n",
    "\n",
    "print(type(price))"
   ]
  },
  {
   "cell_type": "code",
   "execution_count": 15,
   "id": "d0bed8a1-0d1b-468d-80cd-e2e6b00706d8",
   "metadata": {},
   "outputs": [
    {
     "name": "stdout",
     "output_type": "stream",
     "text": [
      "Akhilesh Kumar Gangwar\n"
     ]
    }
   ],
   "source": [
    " # Answer - 9\n",
    "  \n",
    "Name = \"Akhilesh Kumar Gangwar\"\n",
    "print(Name)\n"
   ]
  },
  {
   "cell_type": "code",
   "execution_count": 19,
   "id": "63a817f9-387b-4b48-bf0c-a20afc180d02",
   "metadata": {},
   "outputs": [
    {
     "name": "stdout",
     "output_type": "stream",
     "text": [
      "world\n"
     ]
    }
   ],
   "source": [
    "# Answer -10\n",
    "\n",
    "string = \"hello, world\"\n",
    "print(string[7:12:1])\n"
   ]
  },
  {
   "cell_type": "code",
   "execution_count": 20,
   "id": "c3b02fc0-6373-4cf2-89fc-a063cf126d22",
   "metadata": {},
   "outputs": [
    {
     "name": "stdout",
     "output_type": "stream",
     "text": [
      "True\n"
     ]
    }
   ],
   "source": [
    " # Answer - 11\n",
    "    \n",
    "is_student = True\n",
    "\n",
    "print(is_student)    "
   ]
  },
  {
   "cell_type": "code",
   "execution_count": null,
   "id": "04198ec7-e904-45c0-83ea-ed8f0b5bffd0",
   "metadata": {},
   "outputs": [],
   "source": []
  }
 ],
 "metadata": {
  "kernelspec": {
   "display_name": "Python 3 (ipykernel)",
   "language": "python",
   "name": "python3"
  },
  "language_info": {
   "codemirror_mode": {
    "name": "ipython",
    "version": 3
   },
   "file_extension": ".py",
   "mimetype": "text/x-python",
   "name": "python",
   "nbconvert_exporter": "python",
   "pygments_lexer": "ipython3",
   "version": "3.10.8"
  }
 },
 "nbformat": 4,
 "nbformat_minor": 5
}
