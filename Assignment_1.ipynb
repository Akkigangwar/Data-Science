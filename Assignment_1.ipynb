{
 "cells": [
  {
   "cell_type": "code",
   "execution_count": 4,
   "id": "f85ceb98-60e4-4549-a9b3-8fee34f682be",
   "metadata": {},
   "outputs": [],
   "source": [
    "# Answer -1\n",
    "a = \"Akhil\"\n",
    "b = [1,3,4,5,\"akhil\",32.2]\n",
    "c = 32.23\n",
    "d = (3,2,4,\"akhil\",8.7)"
   ]
  },
  {
   "cell_type": "code",
   "execution_count": 5,
   "id": "f1162474-2cd2-4686-99bd-06fbf494b8d0",
   "metadata": {},
   "outputs": [],
   "source": [
    "# Answer -2\n",
    "var3 = ['DS','ML','python']"
   ]
  },
  {
   "cell_type": "code",
   "execution_count": 19,
   "id": "7426dd5f-1f7a-4ad9-9ed8-e91e11fa08dd",
   "metadata": {},
   "outputs": [
    {
     "data": {
      "text/plain": [
       "1"
      ]
     },
     "execution_count": 19,
     "metadata": {},
     "output_type": "execute_result"
    }
   ],
   "source": [
    "#  Answer -3\n",
    "5/10 # Divisional operator\n",
    "1%2 # Remainder operator(Modulus)\n",
    "5//4 #floor value\n",
    "1**3 # power operator(exponants)"
   ]
  },
  {
   "cell_type": "code",
   "execution_count": 21,
   "id": "026af99e-7da5-4ad4-93e8-b8662fc4c76f",
   "metadata": {},
   "outputs": [
    {
     "name": "stdout",
     "output_type": "stream",
     "text": [
      "<class 'int'>\n",
      "<class 'int'>\n",
      "<class 'int'>\n",
      "<class 'int'>\n",
      "<class 'int'>\n",
      "<class 'int'>\n",
      "<class 'int'>\n",
      "<class 'int'>\n",
      "<class 'str'>\n",
      "<class 'float'>\n"
     ]
    }
   ],
   "source": [
    "# Answer -4\n",
    "l = [1,2,3,4,5,6,7,8,\"akhil\",23.43]\n",
    "for i in l:\n",
    "    print(type(i))"
   ]
  },
  {
   "cell_type": "code",
   "execution_count": null,
   "id": "0161d73a-1811-4383-b4d9-def32bf5811a",
   "metadata": {},
   "outputs": [],
   "source": [
    "# Answer -5\n",
    "n = 10\n",
    "i = 2\n",
    "while i < n:\n",
    "    print(i)\n",
    "    i % 10 == 1\n",
    "    print(i)"
   ]
  },
  {
   "cell_type": "code",
   "execution_count": 58,
   "id": "19ff4eab-4521-43ad-8722-3ed2bd741c01",
   "metadata": {},
   "outputs": [
    {
     "name": "stdout",
     "output_type": "stream",
     "text": [
      "3\n",
      "6\n",
      "9\n",
      "12\n",
      "15\n",
      "18\n",
      "21\n",
      "24\n",
      "done\n"
     ]
    }
   ],
   "source": [
    "# Answer -6\n",
    "for i in [1,2,3,4,5,6,7,8,9,10,11,12,13,14,15,16,17,18,19,20,21,22,23,24,25]:\n",
    "    if i % 3 == 0:\n",
    "        print(i)\n",
    "else:\n",
    "    print(\"done\")"
   ]
  },
  {
   "cell_type": "code",
   "execution_count": null,
   "id": "90ccad6c-0cfa-4a79-99f0-a986b4550bc8",
   "metadata": {},
   "outputs": [],
   "source": [
    "# Answer -7\n",
    "a = [1,2,3,4,\"akhil\",43.43]  #list is a mutable data type changeble.\n",
    "  \n",
    "b = \"Akhilesh\" # str is a immutable data type can not change."
   ]
  }
 ],
 "metadata": {
  "kernelspec": {
   "display_name": "Python 3 (ipykernel)",
   "language": "python",
   "name": "python3"
  },
  "language_info": {
   "codemirror_mode": {
    "name": "ipython",
    "version": 3
   },
   "file_extension": ".py",
   "mimetype": "text/x-python",
   "name": "python",
   "nbconvert_exporter": "python",
   "pygments_lexer": "ipython3",
   "version": "3.10.8"
  }
 },
 "nbformat": 4,
 "nbformat_minor": 5
}
